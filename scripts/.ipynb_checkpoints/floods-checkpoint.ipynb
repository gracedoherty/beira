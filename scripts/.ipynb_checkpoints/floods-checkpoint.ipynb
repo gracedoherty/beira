{
 "cells": [
  {
   "cell_type": "markdown",
   "id": "744dedf7",
   "metadata": {},
   "source": [
    "# Beira: Flood model\n",
    "\n",
    "Including the data from floods. "
   ]
  },
  {
   "cell_type": "code",
   "execution_count": 95,
   "id": "601e36f7",
   "metadata": {},
   "outputs": [],
   "source": [
    "# load and filter osm network (step 1)\n",
    "\n",
    "import pandas as pd\n",
    "import time\n",
    "import GOSTnets as gn\n",
    "import networkx as nx\n",
    "import osmnx as ox\n",
    "import numpy as np\n",
    "import geopandas as gpd\n",
    "from geopandas import GeoDataFrame\n",
    "import rasterio as rt\n",
    "import shapely\n",
    "from shapely.geometry import Point, box\n",
    "from shapely.ops import unary_union\n",
    "from shapely.wkt import loads\n",
    "from shapely.geometry import LineString, MultiLineString, Point\n",
    "\n",
    "# Might not use these\n",
    "import fiona\n",
    "import peartree\n",
    "import gdal\n",
    "import subprocess, glob\n",
    "from PIL import Image\n",
    "import numpy \n",
    "from skimage import io\n",
    "from osgeo import gdal\n",
    "from osgeo import osr"
   ]
  },
  {
   "cell_type": "code",
   "execution_count": 7,
   "id": "f18d8249",
   "metadata": {},
   "outputs": [],
   "source": [
    "tiff_path = \"../data/new_info/\""
   ]
  },
  {
   "cell_type": "code",
   "execution_count": 9,
   "id": "f71b47da",
   "metadata": {},
   "outputs": [],
   "source": [
    "dem_post = io.imread(tiff_path + \"Beira_DEM_Lidar_Post.tif\")\n",
    "dem_pre = io.imread(tiff_path + \"Beira_DEM_Lidar_Pre-project.tif\")\n",
    "\n",
    "\n",
    "# new tifs from shapefile\n",
    "pre_10yr = io.imread(tiff_path + \"pre_10_year.tif\")\n",
    "pre_5yr = io.imread(tiff_path + \"pre_5_year.tif\")\n",
    "post_10yr = io.imread(tiff_path + \"post_10_year.tif\")\n",
    "post_5yr = io.imread(tiff_path + \"post_5_year.tif\")\n"
   ]
  },
  {
   "cell_type": "code",
   "execution_count": 10,
   "id": "7231a738",
   "metadata": {},
   "outputs": [
    {
     "data": {
      "text/plain": [
       "(4570, 7512)"
      ]
     },
     "execution_count": 10,
     "metadata": {},
     "output_type": "execute_result"
    }
   ],
   "source": [
    "pre_10yr.shape"
   ]
  },
  {
   "cell_type": "code",
   "execution_count": 11,
   "id": "c8702947",
   "metadata": {},
   "outputs": [
    {
     "data": {
      "text/plain": [
       "(4570, 7512)"
      ]
     },
     "execution_count": 11,
     "metadata": {},
     "output_type": "execute_result"
    }
   ],
   "source": [
    "dem_pre.shape"
   ]
  },
  {
   "cell_type": "code",
   "execution_count": 12,
   "id": "f5f8f76c",
   "metadata": {},
   "outputs": [],
   "source": [
    "new_calc = dem_pre - pre_10yr"
   ]
  },
  {
   "cell_type": "code",
   "execution_count": 14,
   "id": "5bc79192",
   "metadata": {},
   "outputs": [],
   "source": [
    "new_calc = dem_post - post_10yr"
   ]
  },
  {
   "cell_type": "code",
   "execution_count": 16,
   "id": "cd43c8dc",
   "metadata": {},
   "outputs": [
    {
     "data": {
      "text/plain": [
       "(4570, 7513)"
      ]
     },
     "execution_count": 16,
     "metadata": {},
     "output_type": "execute_result"
    }
   ],
   "source": [
    "new_calc.shape"
   ]
  },
  {
   "cell_type": "code",
   "execution_count": 17,
   "id": "9e0908b4",
   "metadata": {},
   "outputs": [
    {
     "data": {
      "text/plain": [
       "10018352"
      ]
     },
     "execution_count": 17,
     "metadata": {},
     "output_type": "execute_result"
    }
   ],
   "source": [
    "np.count_nonzero(np.isnan(new_calc))\n"
   ]
  },
  {
   "cell_type": "code",
   "execution_count": 18,
   "id": "35225f68",
   "metadata": {},
   "outputs": [
    {
     "data": {
      "text/plain": [
       "34329840"
      ]
     },
     "execution_count": 18,
     "metadata": {},
     "output_type": "execute_result"
    }
   ],
   "source": [
    "4570 * 7512"
   ]
  },
  {
   "cell_type": "code",
   "execution_count": 21,
   "id": "3a51cf83",
   "metadata": {},
   "outputs": [
    {
     "data": {
      "text/plain": [
       "numpy.float64"
      ]
     },
     "execution_count": 21,
     "metadata": {},
     "output_type": "execute_result"
    }
   ],
   "source": [
    "type(new_calc[0,0])"
   ]
  },
  {
   "cell_type": "code",
   "execution_count": 32,
   "id": "0fe863b4",
   "metadata": {},
   "outputs": [
    {
     "data": {
      "text/plain": [
       "array([-3.4028235e+38, -3.4028235e+38, -3.4028235e+38, ...,\n",
       "       -3.4028235e+38, -3.4028235e+38, -3.4028235e+38], dtype=float32)"
      ]
     },
     "execution_count": 32,
     "metadata": {},
     "output_type": "execute_result"
    }
   ],
   "source": [
    "a = dem_pre[np.where(dem_pre < -3.4028235e+37)]\n",
    "a"
   ]
  },
  {
   "cell_type": "code",
   "execution_count": 35,
   "id": "96993df6",
   "metadata": {},
   "outputs": [
    {
     "data": {
      "text/plain": [
       "array([[       nan,        nan, 6.90256964, ...,        nan,        nan,\n",
       "               nan],\n",
       "       [       nan,        nan, 6.90263856, ...,        nan,        nan,\n",
       "               nan],\n",
       "       [       nan,        nan, 6.90272402, ...,        nan,        nan,\n",
       "               nan],\n",
       "       ...,\n",
       "       [       nan,        nan,        nan, ...,        nan,        nan,\n",
       "               nan],\n",
       "       [       nan,        nan,        nan, ...,        nan,        nan,\n",
       "               nan],\n",
       "       [       nan,        nan,        nan, ...,        nan,        nan,\n",
       "               nan]])"
      ]
     },
     "execution_count": 35,
     "metadata": {},
     "output_type": "execute_result"
    }
   ],
   "source": [
    "dem_post"
   ]
  },
  {
   "cell_type": "code",
   "execution_count": 34,
   "id": "ff77f1c1",
   "metadata": {},
   "outputs": [
    {
     "data": {
      "text/plain": [
       "3.4028235e+38"
      ]
     },
     "execution_count": 34,
     "metadata": {},
     "output_type": "execute_result"
    }
   ],
   "source": [
    "-3.4028235e+38"
   ]
  },
  {
   "cell_type": "code",
   "execution_count": 42,
   "id": "f410a636",
   "metadata": {},
   "outputs": [],
   "source": [
    "dem_post = np.where(dem_post  == np.nan,-3.4028235e+38, dem_post)\n"
   ]
  },
  {
   "cell_type": "code",
   "execution_count": 45,
   "id": "af2c7503",
   "metadata": {},
   "outputs": [
    {
     "ename": "AttributeError",
     "evalue": "'numpy.ndarray' object has no attribute 'fillna'",
     "output_type": "error",
     "traceback": [
      "\u001b[0;31m---------------------------------------------------------------------------\u001b[0m",
      "\u001b[0;31mAttributeError\u001b[0m                            Traceback (most recent call last)",
      "\u001b[0;32m<ipython-input-45-2011c69a7430>\u001b[0m in \u001b[0;36m<module>\u001b[0;34m\u001b[0m\n\u001b[0;32m----> 1\u001b[0;31m \u001b[0mdem_post\u001b[0m\u001b[0;34m.\u001b[0m\u001b[0mfillna\u001b[0m\u001b[0;34m(\u001b[0m\u001b[0;34m-\u001b[0m\u001b[0;36m3.4028235e+38\u001b[0m\u001b[0;34m)\u001b[0m\u001b[0;34m\u001b[0m\u001b[0;34m\u001b[0m\u001b[0m\n\u001b[0m",
      "\u001b[0;31mAttributeError\u001b[0m: 'numpy.ndarray' object has no attribute 'fillna'"
     ]
    }
   ],
   "source": [
    "dem_post.fillna(-3.4028235e+38)"
   ]
  },
  {
   "cell_type": "code",
   "execution_count": 48,
   "id": "9d763262",
   "metadata": {},
   "outputs": [],
   "source": [
    "ds = gdal.Open(tiff_path + \"Beira_DEM_Lidar_Post.tif\")\n",
    "cols = ds.RasterXSize\n",
    "rows = ds.RasterYSize\n",
    "myarray = np.array(ds.GetRasterBand(1).ReadAsArray())"
   ]
  },
  {
   "cell_type": "code",
   "execution_count": 50,
   "id": "3e60a509",
   "metadata": {},
   "outputs": [
    {
     "data": {
      "text/plain": [
       "(4570, 7513)"
      ]
     },
     "execution_count": 50,
     "metadata": {},
     "output_type": "execute_result"
    }
   ],
   "source": [
    "myarray.shape"
   ]
  },
  {
   "cell_type": "code",
   "execution_count": 52,
   "id": "62138ed4",
   "metadata": {},
   "outputs": [],
   "source": [
    "inDs = gdal.Open(tiff_path + \"Beira_DEM_Lidar_Post.tif\")\n",
    "\n",
    "\n",
    "# read in the crop data and get info about it\n",
    "band1 = inDs.GetRasterBand(1)\n",
    "rows = inDs.RasterYSize\n",
    "cols = inDs.RasterXSize\n",
    "\n",
    "cropData = band1.ReadAsArray(0,0,cols,rows)"
   ]
  },
  {
   "cell_type": "code",
   "execution_count": 66,
   "id": "b9a69e7c",
   "metadata": {},
   "outputs": [],
   "source": [
    "# create the output image\n",
    "driver = inDs.GetDriver()\n",
    "#print driver\n",
    "outDs = driver.Create(tiff_path + \"new_post.tif\", cols, rows, 1, gdal.GDT_Int32)"
   ]
  },
  {
   "cell_type": "code",
   "execution_count": 68,
   "id": "10d71a68",
   "metadata": {},
   "outputs": [],
   "source": [
    "outBand = outDs.GetRasterBand(1)\n",
    "outData = numpy.zeros((rows,cols), numpy.int16)"
   ]
  },
  {
   "cell_type": "code",
   "execution_count": 76,
   "id": "68447446",
   "metadata": {},
   "outputs": [],
   "source": [
    "outData = cropData *2"
   ]
  },
  {
   "cell_type": "code",
   "execution_count": 86,
   "id": "b10d5d79",
   "metadata": {},
   "outputs": [],
   "source": [
    "import numpy, sys\n",
    "from osgeo import gdal\n",
    "from osgeo.gdalconst import *\n",
    "\n",
    "\n",
    "# register all of the GDAL drivers\n",
    "gdal.AllRegister()\n",
    "\n",
    "# open the image\n",
    "inDs = gdal.Open(tiff_path + \"Beira_DEM_Lidar_Post.tif\")\n",
    "if inDs is None:\n",
    "    print('Could not open image file')\n",
    "    sys.exit(1)\n",
    "\n",
    "# read in the crop data and get info about it\n",
    "band1 = inDs.GetRasterBand(1)\n",
    "rows = inDs.RasterYSize\n",
    "cols = inDs.RasterXSize\n",
    "\n",
    "cropData = band1.ReadAsArray(0,0,cols,rows)\n",
    "\n",
    "\n",
    "# create the output image\n",
    "driver = inDs.GetDriver()\n",
    "#print driver\n",
    "outDs = driver.Create(tiff_path + \"new_post.tif\", cols, rows, bands =  1, GDT_Int32)\n",
    "if outDs is None:\n",
    "    print('Could not create reclass_40.tif')\n",
    "    sys.exit(1)\n",
    "# georeference the image and set the projection\n",
    "outDs.SetGeoTransform(inDs.GetGeoTransform())\n",
    "outDs.SetProjection(inDs.GetProjection())\n",
    "\n",
    "outBand = outDs.GetRasterBand(1)\n",
    "outData = numpy.zeros((rows,cols), numpy.int16)\n",
    "\n",
    "outData = cropData*2\n",
    "\n",
    "\n",
    "# write the data\n",
    "outBand.WriteArray(outData)\n",
    "\n",
    "# flush data to disk, set the NoData value and calculate stats\n",
    "outBand.FlushCache()\n",
    "outBand.SetNoDataValue(-99)\n",
    "\n",
    "\n",
    "outDs = None\n",
    "#del outData"
   ]
  },
  {
   "cell_type": "code",
   "execution_count": 129,
   "id": "df258224",
   "metadata": {},
   "outputs": [],
   "source": []
  },
  {
   "cell_type": "code",
   "execution_count": 132,
   "id": "2fc7dafb",
   "metadata": {},
   "outputs": [
    {
     "name": "stdout",
     "output_type": "stream",
     "text": [
      "Beira_DEM_Lidar_Post\n",
      "Beira_DEM_Lidar_Pre-project\n",
      "pre_10_year\n",
      "pre_5_year\n",
      "post_10_year\n",
      "post_5_year\n"
     ]
    }
   ],
   "source": [
    "import numpy \n",
    "def get_array_row_col(gdal_obj):\n",
    "    band = gdal_obj.GetRasterBand(1)\n",
    "    row = gdal_obj.RasterYSize\n",
    "    col = gdal_obj.RasterXSize\n",
    "\n",
    "    array = band.ReadAsArray(0,0,col,row)\n",
    "\n",
    "    return array, row, col\n",
    "\n",
    "tif_lst = [\"Beira_DEM_Lidar_Post\", \"Beira_DEM_Lidar_Pre-project\",\n",
    "\"pre_10_year\", \"pre_5_year\", \"post_10_year\", \"post_5_year\"]\n",
    "\n",
    "tif_files = {}\n",
    "tif_arrays = {}\n",
    "\n",
    "for tif in tif_lst:\n",
    "    print(tif)\n",
    "    file = gdal.Open(tiff_path + tif + \".tif\")\n",
    "    tif_files[tif] = file\n",
    "    tif_arrays[tif] = get_array_row_col(file)\n",
    "    \n",
    "fin_arr = {}\n",
    "\n",
    "fin_arr[\"pre_10_year\"] = tif_arrays[\"Beira_DEM_Lidar_Pre-project\"][0] - tif_arrays[\"pre_10_year\"][0]\n",
    "fin_arr[\"pre_5_year\"]  = tif_arrays[\"Beira_DEM_Lidar_Pre-project\"][0] - tif_arrays[\"pre_5_year\"][0]\n",
    "\n",
    "fin_arr[\"post_10_year\"]  = tif_arrays[\"Beira_DEM_Lidar_Post\"][0] - tif_arrays[\"post_10_year\"][0]\n",
    "fin_arr[\"post_5_year\"]  =  tif_arrays[\"Beira_DEM_Lidar_Post\"][0] - tif_arrays[\"post_5_year\"][0]\n"
   ]
  },
  {
   "cell_type": "code",
   "execution_count": 131,
   "id": "05f402f1",
   "metadata": {},
   "outputs": [],
   "source": [
    "def get_driver_save_file(thing_name, cols, rows,):\n",
    "\n",
    "    indDs = tif_files[thing_name]\n",
    "    driver = indDs.GetDriver()\n",
    "\n",
    "    if driver is None:\n",
    "        print ('Could not create driver :(')\n",
    "\n",
    "    outDs = driver.Create(tiff_path + thing_name + \"_out.tif\", cols, rows, bands = 1, gdal.GDT_Int32)\n",
    "\n",
    "    if outDs is None:\n",
    "        print ('Could not create outputfile :(')\n",
    "\n",
    "    outDs.SetGeoTransform(inDs.GetGeoTransform())\n",
    "    outDs.SetProjection(inDs.GetProjection())\n",
    "    outBand = outDs.GetRasterBand(1)\n",
    "    outBand.WriteArray(fin_arr[thing_name], 0, 0)\n",
    "    outBand.FlushCache()\n",
    "    outBand.SetNoDataValue(-99999)\n",
    "    outDs = None\n"
   ]
  },
  {
   "cell_type": "code",
   "execution_count": 135,
   "id": "980dd0bd",
   "metadata": {},
   "outputs": [
    {
     "data": {
      "text/plain": [
       "5"
      ]
     },
     "execution_count": 135,
     "metadata": {},
     "output_type": "execute_result"
    }
   ],
   "source": [
    "gdal.GDT_Int32"
   ]
  },
  {
   "cell_type": "code",
   "execution_count": 134,
   "id": "4adcbb0d",
   "metadata": {},
   "outputs": [
    {
     "ename": "TypeError",
     "evalue": "in method 'Driver_Create', argument 4 of type 'int'",
     "output_type": "error",
     "traceback": [
      "\u001b[0;31m---------------------------------------------------------------------------\u001b[0m",
      "\u001b[0;31mTypeError\u001b[0m                                 Traceback (most recent call last)",
      "\u001b[0;32m<ipython-input-134-53b14aa9b6eb>\u001b[0m in \u001b[0;36m<module>\u001b[0;34m\u001b[0m\n\u001b[0;32m----> 1\u001b[0;31m \u001b[0mget_driver_save_file\u001b[0m\u001b[0;34m(\u001b[0m\u001b[0;34m\"pre_10_year\"\u001b[0m\u001b[0;34m,\u001b[0m \u001b[0mtif_arrays\u001b[0m\u001b[0;34m[\u001b[0m\u001b[0;34m\"pre_10_year\"\u001b[0m\u001b[0;34m]\u001b[0m\u001b[0;34m[\u001b[0m\u001b[0;36m1\u001b[0m\u001b[0;34m]\u001b[0m\u001b[0;34m,\u001b[0m \u001b[0mtif_arrays\u001b[0m\u001b[0;34m[\u001b[0m\u001b[0;34m\"pre_10_year\"\u001b[0m\u001b[0;34m]\u001b[0m\u001b[0;34m[\u001b[0m\u001b[0;36m0\u001b[0m\u001b[0;34m]\u001b[0m\u001b[0;34m)\u001b[0m\u001b[0;34m\u001b[0m\u001b[0;34m\u001b[0m\u001b[0m\n\u001b[0m\u001b[1;32m      2\u001b[0m \u001b[0;34m\u001b[0m\u001b[0m\n\u001b[1;32m      3\u001b[0m \u001b[0;34m\u001b[0m\u001b[0m\n\u001b[1;32m      4\u001b[0m \u001b[0;31m# tif_bands['Beira_DEM_Lidar_Post'][0].ReadAsArray(0, 0, tif_bands['Beira_DEM_Lidar_Post'][1],\u001b[0m\u001b[0;34m\u001b[0m\u001b[0;34m\u001b[0m\u001b[0;34m\u001b[0m\u001b[0m\n\u001b[1;32m      5\u001b[0m \u001b[0;31m#                                                  tif_bands['Beira_DEM_Lidar_Post'][2])\u001b[0m\u001b[0;34m\u001b[0m\u001b[0;34m\u001b[0m\u001b[0;34m\u001b[0m\u001b[0m\n",
      "\u001b[0;32m<ipython-input-131-586d61cb74ce>\u001b[0m in \u001b[0;36mget_driver_save_file\u001b[0;34m(thing_name, cols, rows)\u001b[0m\n\u001b[1;32m      7\u001b[0m         \u001b[0mprint\u001b[0m \u001b[0;34m(\u001b[0m\u001b[0;34m'Could not create driver :('\u001b[0m\u001b[0;34m)\u001b[0m\u001b[0;34m\u001b[0m\u001b[0;34m\u001b[0m\u001b[0m\n\u001b[1;32m      8\u001b[0m \u001b[0;34m\u001b[0m\u001b[0m\n\u001b[0;32m----> 9\u001b[0;31m     \u001b[0moutDs\u001b[0m \u001b[0;34m=\u001b[0m \u001b[0mdriver\u001b[0m\u001b[0;34m.\u001b[0m\u001b[0mCreate\u001b[0m\u001b[0;34m(\u001b[0m\u001b[0mtiff_path\u001b[0m \u001b[0;34m+\u001b[0m \u001b[0mthing_name\u001b[0m \u001b[0;34m+\u001b[0m \u001b[0;34m\"_out.tif\"\u001b[0m\u001b[0;34m,\u001b[0m \u001b[0mcols\u001b[0m\u001b[0;34m,\u001b[0m \u001b[0mrows\u001b[0m\u001b[0;34m,\u001b[0m \u001b[0;36m1\u001b[0m\u001b[0;34m,\u001b[0m \u001b[0mgdal\u001b[0m\u001b[0;34m.\u001b[0m\u001b[0mGDT_Int32\u001b[0m\u001b[0;34m)\u001b[0m\u001b[0;34m\u001b[0m\u001b[0;34m\u001b[0m\u001b[0m\n\u001b[0m\u001b[1;32m     10\u001b[0m \u001b[0;34m\u001b[0m\u001b[0m\n\u001b[1;32m     11\u001b[0m     \u001b[0;32mif\u001b[0m \u001b[0moutDs\u001b[0m \u001b[0;32mis\u001b[0m \u001b[0;32mNone\u001b[0m\u001b[0;34m:\u001b[0m\u001b[0;34m\u001b[0m\u001b[0;34m\u001b[0m\u001b[0m\n",
      "\u001b[0;32m~/opt/anaconda3/envs/beira/lib/python3.7/site-packages/osgeo/gdal.py\u001b[0m in \u001b[0;36mCreate\u001b[0;34m(self, *args, **kwargs)\u001b[0m\n\u001b[1;32m   1772\u001b[0m     \u001b[0;32mdef\u001b[0m \u001b[0mCreate\u001b[0m\u001b[0;34m(\u001b[0m\u001b[0mself\u001b[0m\u001b[0;34m,\u001b[0m \u001b[0;34m*\u001b[0m\u001b[0margs\u001b[0m\u001b[0;34m,\u001b[0m \u001b[0;34m**\u001b[0m\u001b[0mkwargs\u001b[0m\u001b[0;34m)\u001b[0m\u001b[0;34m:\u001b[0m\u001b[0;34m\u001b[0m\u001b[0;34m\u001b[0m\u001b[0m\n\u001b[1;32m   1773\u001b[0m         \u001b[0;34m\"\"\"Create(Driver self, char const * utf8_path, int xsize, int ysize, int bands=1, GDALDataType eType, char ** options=None) -> Dataset\"\"\"\u001b[0m\u001b[0;34m\u001b[0m\u001b[0;34m\u001b[0m\u001b[0m\n\u001b[0;32m-> 1774\u001b[0;31m         \u001b[0;32mreturn\u001b[0m \u001b[0m_gdal\u001b[0m\u001b[0;34m.\u001b[0m\u001b[0mDriver_Create\u001b[0m\u001b[0;34m(\u001b[0m\u001b[0mself\u001b[0m\u001b[0;34m,\u001b[0m \u001b[0;34m*\u001b[0m\u001b[0margs\u001b[0m\u001b[0;34m,\u001b[0m \u001b[0;34m**\u001b[0m\u001b[0mkwargs\u001b[0m\u001b[0;34m)\u001b[0m\u001b[0;34m\u001b[0m\u001b[0;34m\u001b[0m\u001b[0m\n\u001b[0m\u001b[1;32m   1775\u001b[0m \u001b[0;34m\u001b[0m\u001b[0m\n\u001b[1;32m   1776\u001b[0m \u001b[0;34m\u001b[0m\u001b[0m\n",
      "\u001b[0;31mTypeError\u001b[0m: in method 'Driver_Create', argument 4 of type 'int'"
     ]
    }
   ],
   "source": [
    "get_driver_save_file(\"pre_10_year\", tif_arrays[\"pre_10_year\"][1], tif_arrays[\"pre_10_year\"][0])\n",
    "\n",
    "\n",
    "# tif_bands['Beira_DEM_Lidar_Post'][0].ReadAsArray(0, 0, tif_bands['Beira_DEM_Lidar_Post'][1],\n",
    "#                                                  tif_bands['Beira_DEM_Lidar_Post'][2])"
   ]
  },
  {
   "cell_type": "code",
   "execution_count": 118,
   "id": "97edf234",
   "metadata": {},
   "outputs": [],
   "source": [
    "a = tif_bands['Beira_DEM_Lidar_Post'][0]\n",
    "c = a.ReadAsArray(0, 0, tif_bands['Beira_DEM_Lidar_Post'][1],\n",
    "                                                 tif_bands['Beira_DEM_Lidar_Post'][2])\n",
    "c"
   ]
  },
  {
   "cell_type": "code",
   "execution_count": 119,
   "id": "ac3a39da",
   "metadata": {},
   "outputs": [
    {
     "data": {
      "text/plain": [
       "{'Beira_DEM_Lidar_Post': None,\n",
       " 'Beira_DEM_Lidar_Pre-project': None,\n",
       " 'pre_10_year': None,\n",
       " 'pre_5_year': None,\n",
       " 'post_10_year': None,\n",
       " 'post_5_year': None}"
      ]
     },
     "execution_count": 119,
     "metadata": {},
     "output_type": "execute_result"
    }
   ],
   "source": [
    "tif_arrays"
   ]
  },
  {
   "cell_type": "code",
   "execution_count": null,
   "id": "f14aaad3",
   "metadata": {},
   "outputs": [],
   "source": [
    "    dem_post = io.imread(tiff_path + \"Beira_DEM_Lidar_Post.tif\")\n",
    "    dem_pre = io.imread(tiff_path + \"Beira_DEM_Lidar_Pre-project.tif\")\n",
    "\n",
    "    dem_post = np.nan_to_num(dem_post, nan=-3.4028235e+38)\n",
    "    # new tifs from shapefile\n",
    "    pre_10yr = io.imread(tiff_path + \"pre_10_year\")\n",
    "    pre_5yr = io.imread(tiff_path + \"pre_5_year\")\n",
    "    post_10yr = io.imread(tiff_path + \"post_10_year\")\n",
    "    post_5yr = io.imread(tiff_path + \"post_5_year\")\n",
    "\n",
    "\n",
    "    result_pre_10yr = dem_pre - pre_10yr\n",
    "    result_pre_5yr = dem_pre - pre_5yr\n",
    "\n",
    "    result_post_10yr = dem_post - post_10yr\n",
    "    result_post_5yr = dem_post - post_5yr\n",
    "\n",
    "\n",
    "    return result_pre_5yr, result_pre_10yr, result_post_5yr, result_post_10yr"
   ]
  }
 ],
 "metadata": {
  "kernelspec": {
   "display_name": "Python 3",
   "language": "python",
   "name": "python3"
  },
  "language_info": {
   "codemirror_mode": {
    "name": "ipython",
    "version": 3
   },
   "file_extension": ".py",
   "mimetype": "text/x-python",
   "name": "python",
   "nbconvert_exporter": "python",
   "pygments_lexer": "ipython3",
   "version": "3.7.7"
  }
 },
 "nbformat": 4,
 "nbformat_minor": 5
}
